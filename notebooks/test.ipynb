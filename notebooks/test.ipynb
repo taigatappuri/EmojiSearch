{
 "cells": [
  {
   "cell_type": "code",
   "execution_count": 1,
   "metadata": {},
   "outputs": [
    {
     "name": "stderr",
     "output_type": "stream",
     "text": [
      "c:\\Users\\user\\JLab\\EmojiSearch\\EmojiSearch_venv\\lib\\site-packages\\tqdm\\auto.py:21: TqdmWarning: IProgress not found. Please update jupyter and ipywidgets. See https://ipywidgets.readthedocs.io/en/stable/user_install.html\n",
      "  from .autonotebook import tqdm as notebook_tqdm\n"
     ]
    }
   ],
   "source": [
    "#import \n",
    "import pandas as pd\n",
    "import numpy as np\n",
    "from googletrans import Translator, LANGUAGES\n",
    "from sentence_transformers import SentenceTransformer\n",
    "import sentencepiece as spm\n",
    "import tqdm as notebook_tqdm"
   ]
  },
  {
   "cell_type": "code",
   "execution_count": 5,
   "metadata": {},
   "outputs": [
    {
     "data": {
      "text/html": [
       "<div>\n",
       "<style scoped>\n",
       "    .dataframe tbody tr th:only-of-type {\n",
       "        vertical-align: middle;\n",
       "    }\n",
       "\n",
       "    .dataframe tbody tr th {\n",
       "        vertical-align: top;\n",
       "    }\n",
       "\n",
       "    .dataframe thead th {\n",
       "        text-align: right;\n",
       "    }\n",
       "</style>\n",
       "<table border=\"1\" class=\"dataframe\">\n",
       "  <thead>\n",
       "    <tr style=\"text-align: right;\">\n",
       "      <th></th>\n",
       "      <th>#</th>\n",
       "      <th>emoji</th>\n",
       "      <th>unicode</th>\n",
       "      <th>name</th>\n",
       "    </tr>\n",
       "  </thead>\n",
       "  <tbody>\n",
       "    <tr>\n",
       "      <th>0</th>\n",
       "      <td>1</td>\n",
       "      <td>😀</td>\n",
       "      <td>U+1F600</td>\n",
       "      <td>grinning face</td>\n",
       "    </tr>\n",
       "    <tr>\n",
       "      <th>1</th>\n",
       "      <td>2</td>\n",
       "      <td>😃</td>\n",
       "      <td>U+1F603</td>\n",
       "      <td>grinning face with big eyes</td>\n",
       "    </tr>\n",
       "    <tr>\n",
       "      <th>2</th>\n",
       "      <td>3</td>\n",
       "      <td>😄</td>\n",
       "      <td>U+1F604</td>\n",
       "      <td>grinning face with smiling eyes</td>\n",
       "    </tr>\n",
       "    <tr>\n",
       "      <th>3</th>\n",
       "      <td>4</td>\n",
       "      <td>😁</td>\n",
       "      <td>U+1F601</td>\n",
       "      <td>beaming face with smiling eyes</td>\n",
       "    </tr>\n",
       "    <tr>\n",
       "      <th>4</th>\n",
       "      <td>5</td>\n",
       "      <td>😆</td>\n",
       "      <td>U+1F606</td>\n",
       "      <td>grinning squinting face</td>\n",
       "    </tr>\n",
       "  </tbody>\n",
       "</table>\n",
       "</div>"
      ],
      "text/plain": [
       "   # emoji  unicode                             name\n",
       "0  1     😀  U+1F600                    grinning face\n",
       "1  2     😃  U+1F603      grinning face with big eyes\n",
       "2  3     😄  U+1F604  grinning face with smiling eyes\n",
       "3  4     😁  U+1F601   beaming face with smiling eyes\n",
       "4  5     😆  U+1F606          grinning squinting face"
      ]
     },
     "execution_count": 5,
     "metadata": {},
     "output_type": "execute_result"
    }
   ],
   "source": [
    "# 利用したデータセット: https://www.kaggle.com/datasets/subinium/emojiimage-dataset/data\n",
    "\n",
    "full_emoji = pd.read_csv(\"../Data/full_emoji.csv\")\n",
    "emojis_data = full_emoji.drop(columns=[\"Apple\", \"Google\", \"Facebook\",\"Windows\",\"Twitter\",\"JoyPixels\",\"Samsung\",\"Gmail\",\"SoftBank\",\"DoCoMo\",\"KDDI\"], axis=1)\n",
    "\n",
    "emojis_data.head()"
   ]
  },
  {
   "cell_type": "code",
   "execution_count": 6,
   "metadata": {},
   "outputs": [
    {
     "data": {
      "text/html": [
       "<div>\n",
       "<style scoped>\n",
       "    .dataframe tbody tr th:only-of-type {\n",
       "        vertical-align: middle;\n",
       "    }\n",
       "\n",
       "    .dataframe tbody tr th {\n",
       "        vertical-align: top;\n",
       "    }\n",
       "\n",
       "    .dataframe thead th {\n",
       "        text-align: right;\n",
       "    }\n",
       "</style>\n",
       "<table border=\"1\" class=\"dataframe\">\n",
       "  <thead>\n",
       "    <tr style=\"text-align: right;\">\n",
       "      <th></th>\n",
       "      <th>#</th>\n",
       "      <th>emoji</th>\n",
       "      <th>unicode</th>\n",
       "      <th>name</th>\n",
       "      <th>name_ja</th>\n",
       "    </tr>\n",
       "  </thead>\n",
       "  <tbody>\n",
       "    <tr>\n",
       "      <th>0</th>\n",
       "      <td>1</td>\n",
       "      <td>😀</td>\n",
       "      <td>U+1F600</td>\n",
       "      <td>grinning face</td>\n",
       "      <td>ニヤリとした顔</td>\n",
       "    </tr>\n",
       "    <tr>\n",
       "      <th>1</th>\n",
       "      <td>2</td>\n",
       "      <td>😃</td>\n",
       "      <td>U+1F603</td>\n",
       "      <td>grinning face with big eyes</td>\n",
       "      <td>大きな目で笑っている顔</td>\n",
       "    </tr>\n",
       "    <tr>\n",
       "      <th>2</th>\n",
       "      <td>3</td>\n",
       "      <td>😄</td>\n",
       "      <td>U+1F604</td>\n",
       "      <td>grinning face with smiling eyes</td>\n",
       "      <td>笑顔の目でニヤリとした顔</td>\n",
       "    </tr>\n",
       "    <tr>\n",
       "      <th>3</th>\n",
       "      <td>4</td>\n",
       "      <td>😁</td>\n",
       "      <td>U+1F601</td>\n",
       "      <td>beaming face with smiling eyes</td>\n",
       "      <td>笑顔の目で晴れやかな顔</td>\n",
       "    </tr>\n",
       "    <tr>\n",
       "      <th>4</th>\n",
       "      <td>5</td>\n",
       "      <td>😆</td>\n",
       "      <td>U+1F606</td>\n",
       "      <td>grinning squinting face</td>\n",
       "      <td>ニヤニヤと目を細めた顔</td>\n",
       "    </tr>\n",
       "  </tbody>\n",
       "</table>\n",
       "</div>"
      ],
      "text/plain": [
       "   # emoji  unicode                             name       name_ja\n",
       "0  1     😀  U+1F600                    grinning face       ニヤリとした顔\n",
       "1  2     😃  U+1F603      grinning face with big eyes   大きな目で笑っている顔\n",
       "2  3     😄  U+1F604  grinning face with smiling eyes  笑顔の目でニヤリとした顔\n",
       "3  4     😁  U+1F601   beaming face with smiling eyes   笑顔の目で晴れやかな顔\n",
       "4  5     😆  U+1F606          grinning squinting face   ニヤニヤと目を細めた顔"
      ]
     },
     "execution_count": 6,
     "metadata": {},
     "output_type": "execute_result"
    }
   ],
   "source": [
    "# 絵文字の名前を日本語に翻訳\n",
    "\n",
    "translator = Translator()\n",
    "\n",
    "\n",
    "def translate_to_japanese(text):\n",
    "    try:\n",
    "        translated_text = translator.translate(text, src='en', dest='ja')\n",
    "        return translated_text.text\n",
    "    except Exception as e:\n",
    "        print(\"error:\", e)\n",
    "        return text\n",
    "\n",
    "emojis_data['name_ja'] = emojis_data['name'].apply(translate_to_japanese)\n",
    "\n",
    "emojis_data.head()\n"
   ]
  },
  {
   "cell_type": "code",
   "execution_count": 37,
   "metadata": {},
   "outputs": [],
   "source": [
    "emojis_data.to_csv(\"../Data/emojis_data.csv\")"
   ]
  },
  {
   "cell_type": "code",
   "execution_count": 7,
   "metadata": {},
   "outputs": [
    {
     "name": "stderr",
     "output_type": "stream",
     "text": [
      "c:\\Users\\user\\JLab\\EmojiSearch\\EmojiSearch_venv\\lib\\site-packages\\huggingface_hub\\file_download.py:1132: FutureWarning: `resume_download` is deprecated and will be removed in version 1.0.0. Downloads always resume when possible. If you want to force a new download, use `force_download=True`.\n",
      "  warnings.warn(\n",
      "c:\\Users\\user\\JLab\\EmojiSearch\\EmojiSearch_venv\\lib\\site-packages\\huggingface_hub\\file_download.py:1132: FutureWarning: `resume_download` is deprecated and will be removed in version 1.0.0. Downloads always resume when possible. If you want to force a new download, use `force_download=True`.\n",
      "  warnings.warn(\n"
     ]
    }
   ],
   "source": [
    "# 日本語のテキスト埋込モデル(GLuCoSE)をロード\n",
    "# https://huggingface.co/pkshatech/GLuCoSE-base-ja\n",
    "model = SentenceTransformer('pkshatech/GLuCoSE-base-ja')\n",
    "# 絵文字の名前を埋め込み\n",
    "emoji_embeddings = model.encode([ed for ed in emojis_data[\"name_ja\"]])\n"
   ]
  },
  {
   "cell_type": "code",
   "execution_count": 46,
   "metadata": {},
   "outputs": [
    {
     "name": "stdout",
     "output_type": "stream",
     "text": [
      "入力単語「辞書」に近い絵文字:\n",
      "📝 :memo: (類似度: 0.661)\n",
      "📓 :notebook: (類似度: 0.649)\n",
      "🗒 :spiral notepad: (類似度: 0.592)\n",
      "📇 :card index: (類似度: 0.576)\n",
      "🔖 :bookmark: (類似度: 0.566)\n"
     ]
    }
   ],
   "source": [
    "# テキストの入力\n",
    "input_word = str(input(\"検索: \"))\n",
    "input_embedding = model.encode([input_word])\n",
    "\n",
    "emoji_embeddings_norm = emoji_embeddings / np.linalg.norm(emoji_embeddings, axis=1, keepdims=True)\n",
    "input_embedding_norm = input_embedding / np.linalg.norm(input_embedding)\n",
    "\n",
    "# cosine類似度を利用\n",
    "cosine_similarities = np.dot(emoji_embeddings_norm, input_embedding_norm.T)\n",
    "\n",
    "closest_emoji_indices = np.argsort(-cosine_similarities, axis=0)[:5].flatten()\n",
    "\n",
    "closest_emojis = emojis_data.iloc[closest_emoji_indices]\n",
    "\n",
    "# 結果を出力\n",
    "print(f\"入力単語「{input_word}」に近い絵文字:\")\n",
    "for index, row in closest_emojis.iterrows():\n",
    "    emoji_row = emojis_data.iloc[index]\n",
    "    print(f\"{row['emoji']} :{emoji_row['name']}: (類似度: {cosine_similarities[index][0]:.3f})\")"
   ]
  }
 ],
 "metadata": {
  "kernelspec": {
   "display_name": "EmojiSearch_venv",
   "language": "python",
   "name": "python3"
  },
  "language_info": {
   "codemirror_mode": {
    "name": "ipython",
    "version": 3
   },
   "file_extension": ".py",
   "mimetype": "text/x-python",
   "name": "python",
   "nbconvert_exporter": "python",
   "pygments_lexer": "ipython3",
   "version": "3.8.13"
  }
 },
 "nbformat": 4,
 "nbformat_minor": 2
}
