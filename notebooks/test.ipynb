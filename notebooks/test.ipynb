{
 "cells": [
  {
   "cell_type": "code",
   "execution_count": 3,
   "metadata": {},
   "outputs": [
    {
     "name": "stderr",
     "output_type": "stream",
     "text": [
      "c:\\Users\\user\\JLab\\EmojiSearch\\EmojiSearch_venv\\lib\\site-packages\\tqdm\\auto.py:21: TqdmWarning: IProgress not found. Please update jupyter and ipywidgets. See https://ipywidgets.readthedocs.io/en/stable/user_install.html\n",
      "  from .autonotebook import tqdm as notebook_tqdm\n"
     ]
    }
   ],
   "source": [
    "#import \n",
    "import pandas as pd\n",
    "import numpy as np\n",
    "# from googletrans import Translator, LANGUAGES\n",
    "from sentence_transformers import SentenceTransformer\n",
    "import sentencepiece as spm\n",
    "import tqdm as notebook_tqdm"
   ]
  },
  {
   "cell_type": "code",
   "execution_count": 50,
   "metadata": {},
   "outputs": [
    {
     "data": {
      "text/html": [
       "<div>\n",
       "<style scoped>\n",
       "    .dataframe tbody tr th:only-of-type {\n",
       "        vertical-align: middle;\n",
       "    }\n",
       "\n",
       "    .dataframe tbody tr th {\n",
       "        vertical-align: top;\n",
       "    }\n",
       "\n",
       "    .dataframe thead th {\n",
       "        text-align: right;\n",
       "    }\n",
       "</style>\n",
       "<table border=\"1\" class=\"dataframe\">\n",
       "  <thead>\n",
       "    <tr style=\"text-align: right;\">\n",
       "      <th></th>\n",
       "      <th>#</th>\n",
       "      <th>emoji</th>\n",
       "      <th>unicode</th>\n",
       "      <th>name</th>\n",
       "    </tr>\n",
       "  </thead>\n",
       "  <tbody>\n",
       "    <tr>\n",
       "      <th>0</th>\n",
       "      <td>1</td>\n",
       "      <td>😀</td>\n",
       "      <td>U+1F600</td>\n",
       "      <td>grinning face</td>\n",
       "    </tr>\n",
       "    <tr>\n",
       "      <th>1</th>\n",
       "      <td>2</td>\n",
       "      <td>😃</td>\n",
       "      <td>U+1F603</td>\n",
       "      <td>grinning face with big eyes</td>\n",
       "    </tr>\n",
       "    <tr>\n",
       "      <th>2</th>\n",
       "      <td>3</td>\n",
       "      <td>😄</td>\n",
       "      <td>U+1F604</td>\n",
       "      <td>grinning face with smiling eyes</td>\n",
       "    </tr>\n",
       "    <tr>\n",
       "      <th>3</th>\n",
       "      <td>4</td>\n",
       "      <td>😁</td>\n",
       "      <td>U+1F601</td>\n",
       "      <td>beaming face with smiling eyes</td>\n",
       "    </tr>\n",
       "    <tr>\n",
       "      <th>4</th>\n",
       "      <td>5</td>\n",
       "      <td>😆</td>\n",
       "      <td>U+1F606</td>\n",
       "      <td>grinning squinting face</td>\n",
       "    </tr>\n",
       "  </tbody>\n",
       "</table>\n",
       "</div>"
      ],
      "text/plain": [
       "   # emoji  unicode                             name\n",
       "0  1     😀  U+1F600                    grinning face\n",
       "1  2     😃  U+1F603      grinning face with big eyes\n",
       "2  3     😄  U+1F604  grinning face with smiling eyes\n",
       "3  4     😁  U+1F601   beaming face with smiling eyes\n",
       "4  5     😆  U+1F606          grinning squinting face"
      ]
     },
     "execution_count": 50,
     "metadata": {},
     "output_type": "execute_result"
    }
   ],
   "source": [
    "# 利用したデータセット: https://www.kaggle.com/datasets/subinium/emojiimage-dataset/data\n",
    "\n",
    "full_emoji = pd.read_csv(\"../Data/full_emoji.csv\")\n",
    "emojis_data = full_emoji.drop(columns=[\"Apple\", \"Google\", \"Facebook\",\"Windows\",\"Twitter\",\"JoyPixels\",\"Samsung\",\"Gmail\",\"SoftBank\",\"DoCoMo\",\"KDDI\"], axis=1)\n",
    "\n",
    "emojis_data.head()"
   ]
  },
  {
   "cell_type": "code",
   "execution_count": 51,
   "metadata": {},
   "outputs": [
    {
     "name": "stdout",
     "output_type": "stream",
     "text": [
      "Unexpected exception formatting exception. Falling back to standard exception\n"
     ]
    },
    {
     "name": "stderr",
     "output_type": "stream",
     "text": [
      "Traceback (most recent call last):\n",
      "  File \"c:\\Users\\user\\JLab\\EmojiSearch\\EmojiSearch_venv\\lib\\site-packages\\IPython\\core\\interactiveshell.py\", line 3508, in run_code\n",
      "    exec(code_obj, self.user_global_ns, self.user_ns)\n",
      "  File \"C:\\Users\\user\\AppData\\Local\\Temp\\ipykernel_36136\\66151277.py\", line 14, in <module>\n",
      "    emojis_data['name_ja'] = emojis_data['name'].apply(translate_to_japanese)\n",
      "  File \"c:\\Users\\user\\JLab\\EmojiSearch\\EmojiSearch_venv\\lib\\site-packages\\pandas\\core\\series.py\", line 4630, in apply\n",
      "    return SeriesApply(self, func, convert_dtype, args, kwargs).apply()\n",
      "  File \"c:\\Users\\user\\JLab\\EmojiSearch\\EmojiSearch_venv\\lib\\site-packages\\pandas\\core\\apply.py\", line 1025, in apply\n",
      "    return self.apply_standard()\n",
      "  File \"c:\\Users\\user\\JLab\\EmojiSearch\\EmojiSearch_venv\\lib\\site-packages\\pandas\\core\\apply.py\", line 1076, in apply_standard\n",
      "    mapped = lib.map_infer(\n",
      "  File \"pandas\\_libs\\lib.pyx\", line 2834, in pandas._libs.lib.map_infer\n",
      "  File \"C:\\Users\\user\\AppData\\Local\\Temp\\ipykernel_36136\\66151277.py\", line 8, in translate_to_japanese\n",
      "    translated_text = translator.translate(text, src='en', dest='ja')\n",
      "  File \"c:\\Users\\user\\JLab\\EmojiSearch\\EmojiSearch_venv\\lib\\site-packages\\googletrans\\client.py\", line 210, in translate\n",
      "    data, response = self._translate(text, dest, src, kwargs)\n",
      "  File \"c:\\Users\\user\\JLab\\EmojiSearch\\EmojiSearch_venv\\lib\\site-packages\\googletrans\\client.py\", line 108, in _translate\n",
      "    r = self.client.get(url, params=params)\n",
      "  File \"c:\\Users\\user\\JLab\\EmojiSearch\\EmojiSearch_venv\\lib\\site-packages\\httpx\\_client.py\", line 755, in get\n",
      "    http1=http1,\n",
      "  File \"c:\\Users\\user\\JLab\\EmojiSearch\\EmojiSearch_venv\\lib\\site-packages\\httpx\\_client.py\", line 600, in request\n",
      "    * **timeout** - *(optional)* The timeout configuration to use when sending\n",
      "  File \"c:\\Users\\user\\JLab\\EmojiSearch\\EmojiSearch_venv\\lib\\site-packages\\httpx\\_client.py\", line 620, in send\n",
      "    *,\n",
      "  File \"c:\\Users\\user\\JLab\\EmojiSearch\\EmojiSearch_venv\\lib\\site-packages\\httpx\\_client.py\", line 647, in send_handling_redirects\n",
      "    cookies=cookies,\n",
      "  File \"c:\\Users\\user\\JLab\\EmojiSearch\\EmojiSearch_venv\\lib\\site-packages\\httpx\\_client.py\", line 684, in send_handling_auth\n",
      "  File \"c:\\Users\\user\\JLab\\EmojiSearch\\EmojiSearch_venv\\lib\\site-packages\\httpx\\_client.py\", line 714, in send_single_request\n",
      "    self._mounts = dict(sorted(self._mounts.items()))\n",
      "  File \"c:\\Users\\user\\JLab\\EmojiSearch\\EmojiSearch_venv\\lib\\site-packages\\httpcore\\_sync\\connection_pool.py\", line 152, in request\n",
      "    <HTTPConnection ['https://example.com:443', HTTP/1.1, IDLE, Request Count: 9]> ,\n",
      "  File \"c:\\Users\\user\\JLab\\EmojiSearch\\EmojiSearch_venv\\lib\\site-packages\\httpcore\\_sync\\connection.py\", line 78, in request\n",
      "    ssl_object = stream.get_extra_info(\"ssl_object\")\n",
      "  File \"c:\\Users\\user\\JLab\\EmojiSearch\\EmojiSearch_venv\\lib\\site-packages\\httpcore\\_sync\\http2.py\", line 118, in request\n",
      "    # its max_concurrent_streams value\n",
      "  File \"c:\\Users\\user\\JLab\\EmojiSearch\\EmojiSearch_venv\\lib\\site-packages\\httpcore\\_sync\\http2.py\", line 292, in request\n",
      "    event = self._receive_stream_event(request, stream_id)\n",
      "  File \"c:\\Users\\user\\JLab\\EmojiSearch\\EmojiSearch_venv\\lib\\site-packages\\httpcore\\_sync\\http2.py\", line 344, in receive_response\n",
      "    for a given stream ID.\n",
      "  File \"c:\\Users\\user\\JLab\\EmojiSearch\\EmojiSearch_venv\\lib\\site-packages\\httpcore\\_sync\\http2.py\", line 197, in wait_for_event\n",
      "    initial_values={\n",
      "  File \"c:\\Users\\user\\JLab\\EmojiSearch\\EmojiSearch_venv\\lib\\site-packages\\httpcore\\_sync\\http2.py\", line 204, in receive_events\n",
      "    },\n",
      "  File \"c:\\Users\\user\\JLab\\EmojiSearch\\EmojiSearch_venv\\lib\\site-packages\\httpcore\\_backends\\sync.py\", line 62, in read\n",
      "    except (ssl.SSLWantReadError, ssl.SSLWantWriteError) as e:\n",
      "  File \"C:\\Users\\user\\AppData\\Roaming\\jupyterlab-desktop\\jlab_server\\lib\\ssl.py\", line 1226, in recv\n",
      "    return self.read(buflen)\n",
      "  File \"C:\\Users\\user\\AppData\\Roaming\\jupyterlab-desktop\\jlab_server\\lib\\ssl.py\", line 1101, in read\n",
      "    return self._sslobj.read(len)\n",
      "KeyboardInterrupt\n",
      "\n",
      "During handling of the above exception, another exception occurred:\n",
      "\n",
      "Traceback (most recent call last):\n",
      "  File \"c:\\Users\\user\\JLab\\EmojiSearch\\EmojiSearch_venv\\lib\\site-packages\\IPython\\core\\interactiveshell.py\", line 2105, in showtraceback\n",
      "    stb = self.InteractiveTB.structured_traceback(\n",
      "  File \"c:\\Users\\user\\JLab\\EmojiSearch\\EmojiSearch_venv\\lib\\site-packages\\IPython\\core\\ultratb.py\", line 1396, in structured_traceback\n",
      "    return FormattedTB.structured_traceback(\n",
      "  File \"c:\\Users\\user\\JLab\\EmojiSearch\\EmojiSearch_venv\\lib\\site-packages\\IPython\\core\\ultratb.py\", line 1287, in structured_traceback\n",
      "    return VerboseTB.structured_traceback(\n",
      "  File \"c:\\Users\\user\\JLab\\EmojiSearch\\EmojiSearch_venv\\lib\\site-packages\\IPython\\core\\ultratb.py\", line 1140, in structured_traceback\n",
      "    formatted_exception = self.format_exception_as_a_whole(etype, evalue, etb, number_of_lines_of_context,\n",
      "  File \"c:\\Users\\user\\JLab\\EmojiSearch\\EmojiSearch_venv\\lib\\site-packages\\IPython\\core\\ultratb.py\", line 1055, in format_exception_as_a_whole\n",
      "    frames.append(self.format_record(record))\n",
      "  File \"c:\\Users\\user\\JLab\\EmojiSearch\\EmojiSearch_venv\\lib\\site-packages\\IPython\\core\\ultratb.py\", line 955, in format_record\n",
      "    frame_info.lines, Colors, self.has_colors, lvals\n",
      "  File \"c:\\Users\\user\\JLab\\EmojiSearch\\EmojiSearch_venv\\lib\\site-packages\\IPython\\core\\ultratb.py\", line 778, in lines\n",
      "    return self._sd.lines\n",
      "  File \"c:\\Users\\user\\JLab\\EmojiSearch\\EmojiSearch_venv\\lib\\site-packages\\stack_data\\utils.py\", line 145, in cached_property_wrapper\n",
      "    value = obj.__dict__[self.func.__name__] = self.func(obj)\n",
      "  File \"c:\\Users\\user\\JLab\\EmojiSearch\\EmojiSearch_venv\\lib\\site-packages\\stack_data\\core.py\", line 734, in lines\n",
      "    pieces = self.included_pieces\n",
      "  File \"c:\\Users\\user\\JLab\\EmojiSearch\\EmojiSearch_venv\\lib\\site-packages\\stack_data\\utils.py\", line 145, in cached_property_wrapper\n",
      "    value = obj.__dict__[self.func.__name__] = self.func(obj)\n",
      "  File \"c:\\Users\\user\\JLab\\EmojiSearch\\EmojiSearch_venv\\lib\\site-packages\\stack_data\\core.py\", line 681, in included_pieces\n",
      "    pos = scope_pieces.index(self.executing_piece)\n",
      "  File \"c:\\Users\\user\\JLab\\EmojiSearch\\EmojiSearch_venv\\lib\\site-packages\\stack_data\\utils.py\", line 145, in cached_property_wrapper\n",
      "    value = obj.__dict__[self.func.__name__] = self.func(obj)\n",
      "  File \"c:\\Users\\user\\JLab\\EmojiSearch\\EmojiSearch_venv\\lib\\site-packages\\stack_data\\core.py\", line 660, in executing_piece\n",
      "    return only(\n",
      "  File \"c:\\Users\\user\\JLab\\EmojiSearch\\EmojiSearch_venv\\lib\\site-packages\\executing\\executing.py\", line 116, in only\n",
      "    raise NotOneValueFound('Expected one value, found 0')\n",
      "executing.executing.NotOneValueFound: Expected one value, found 0\n"
     ]
    }
   ],
   "source": [
    "# 絵文字の名前を日本語に翻訳\n",
    "\n",
    "translator = Translator()\n",
    "\n",
    "\n",
    "def translate_to_japanese(text):\n",
    "    try:\n",
    "        translated_text = translator.translate(text, src='en', dest='ja')\n",
    "        return translated_text.text\n",
    "    except Exception as e:\n",
    "        print(\"error:\", e)\n",
    "        return text\n",
    "\n",
    "emojis_data['name_ja'] = emojis_data['name'].apply(translate_to_japanese)\n",
    "\n",
    "emojis_data.head()\n"
   ]
  },
  {
   "cell_type": "code",
   "execution_count": null,
   "metadata": {},
   "outputs": [],
   "source": [
    "emojis_data.to_csv(\"../Data/emojis_data.csv\")"
   ]
  },
  {
   "cell_type": "code",
   "execution_count": 4,
   "metadata": {},
   "outputs": [
    {
     "data": {
      "text/html": [
       "<div>\n",
       "<style scoped>\n",
       "    .dataframe tbody tr th:only-of-type {\n",
       "        vertical-align: middle;\n",
       "    }\n",
       "\n",
       "    .dataframe tbody tr th {\n",
       "        vertical-align: top;\n",
       "    }\n",
       "\n",
       "    .dataframe thead th {\n",
       "        text-align: right;\n",
       "    }\n",
       "</style>\n",
       "<table border=\"1\" class=\"dataframe\">\n",
       "  <thead>\n",
       "    <tr style=\"text-align: right;\">\n",
       "      <th></th>\n",
       "      <th>Unnamed: 0</th>\n",
       "      <th>#</th>\n",
       "      <th>emoji</th>\n",
       "      <th>unicode</th>\n",
       "      <th>name</th>\n",
       "      <th>name_ja</th>\n",
       "    </tr>\n",
       "  </thead>\n",
       "  <tbody>\n",
       "    <tr>\n",
       "      <th>0</th>\n",
       "      <td>0</td>\n",
       "      <td>1</td>\n",
       "      <td>😀</td>\n",
       "      <td>U+1F600</td>\n",
       "      <td>grinning face</td>\n",
       "      <td>ニヤリとした顔</td>\n",
       "    </tr>\n",
       "    <tr>\n",
       "      <th>1</th>\n",
       "      <td>1</td>\n",
       "      <td>2</td>\n",
       "      <td>😃</td>\n",
       "      <td>U+1F603</td>\n",
       "      <td>grinning face with big eyes</td>\n",
       "      <td>大きな目で笑っている顔</td>\n",
       "    </tr>\n",
       "    <tr>\n",
       "      <th>2</th>\n",
       "      <td>2</td>\n",
       "      <td>3</td>\n",
       "      <td>😄</td>\n",
       "      <td>U+1F604</td>\n",
       "      <td>grinning face with smiling eyes</td>\n",
       "      <td>笑顔の目でニヤリとした顔</td>\n",
       "    </tr>\n",
       "    <tr>\n",
       "      <th>3</th>\n",
       "      <td>3</td>\n",
       "      <td>4</td>\n",
       "      <td>😁</td>\n",
       "      <td>U+1F601</td>\n",
       "      <td>beaming face with smiling eyes</td>\n",
       "      <td>笑顔の目で晴れやかな顔</td>\n",
       "    </tr>\n",
       "    <tr>\n",
       "      <th>4</th>\n",
       "      <td>4</td>\n",
       "      <td>5</td>\n",
       "      <td>😆</td>\n",
       "      <td>U+1F606</td>\n",
       "      <td>grinning squinting face</td>\n",
       "      <td>ニヤニヤと目を細めた顔</td>\n",
       "    </tr>\n",
       "  </tbody>\n",
       "</table>\n",
       "</div>"
      ],
      "text/plain": [
       "   Unnamed: 0  # emoji  unicode                             name       name_ja\n",
       "0           0  1     😀  U+1F600                    grinning face       ニヤリとした顔\n",
       "1           1  2     😃  U+1F603      grinning face with big eyes   大きな目で笑っている顔\n",
       "2           2  3     😄  U+1F604  grinning face with smiling eyes  笑顔の目でニヤリとした顔\n",
       "3           3  4     😁  U+1F601   beaming face with smiling eyes   笑顔の目で晴れやかな顔\n",
       "4           4  5     😆  U+1F606          grinning squinting face   ニヤニヤと目を細めた顔"
      ]
     },
     "execution_count": 4,
     "metadata": {},
     "output_type": "execute_result"
    }
   ],
   "source": [
    "\n",
    "emojis_data = pd.read_csv(\"../Data/emojis_data.csv\")\n",
    "emojis_data.head()"
   ]
  },
  {
   "cell_type": "code",
   "execution_count": 5,
   "metadata": {},
   "outputs": [
    {
     "name": "stderr",
     "output_type": "stream",
     "text": [
      "c:\\Users\\user\\JLab\\EmojiSearch\\EmojiSearch_venv\\lib\\site-packages\\huggingface_hub\\file_download.py:1132: FutureWarning: `resume_download` is deprecated and will be removed in version 1.0.0. Downloads always resume when possible. If you want to force a new download, use `force_download=True`.\n",
      "  warnings.warn(\n",
      "c:\\Users\\user\\JLab\\EmojiSearch\\EmojiSearch_venv\\lib\\site-packages\\huggingface_hub\\file_download.py:1132: FutureWarning: `resume_download` is deprecated and will be removed in version 1.0.0. Downloads always resume when possible. If you want to force a new download, use `force_download=True`.\n",
      "  warnings.warn(\n"
     ]
    }
   ],
   "source": [
    "# 日本語のテキスト埋込モデル(GLuCoSE)をロード\n",
    "# https://huggingface.co/pkshatech/GLuCoSE-base-ja\n",
    "model = SentenceTransformer('pkshatech/GLuCoSE-base-ja')\n",
    "# 絵文字の名前を埋め込み\n",
    "emoji_embeddings = model.encode([ed for ed in emojis_data[\"name_ja\"]])\n"
   ]
  },
  {
   "cell_type": "code",
   "execution_count": 8,
   "metadata": {},
   "outputs": [
    {
     "name": "stdout",
     "output_type": "stream",
     "text": [
      "入力単語「猫　悲しい」に近い絵文字:\n",
      "😿 :crying cat: (類似度: 0.843)\n",
      "🙀 :weary cat: (類似度: 0.802)\n",
      "😼 :cat with wry smile: (類似度: 0.779)\n",
      "😹 :cat with tears of joy: (類似度: 0.732)\n",
      "🐈 :cat: (類似度: 0.729)\n"
     ]
    }
   ],
   "source": [
    "# テキストの入力\n",
    "input_word = str(input(\"検索: \"))\n",
    "input_embedding = model.encode([input_word])\n",
    "emoji_embeddings_norm = emoji_embeddings / np.linalg.norm(emoji_embeddings, axis=1, keepdims=True)\n",
    "input_embedding_norm = input_embedding / np.linalg.norm(input_embedding)\n",
    "cosine_similarities = np.dot(emoji_embeddings_norm, input_embedding_norm.T)\n",
    "closest_emoji_indices = np.argsort(-cosine_similarities, axis=0)[:5].flatten()\n",
    "closest_emojis = emojis_data.iloc[closest_emoji_indices]\n",
    "\n",
    "# 結果を出力\n",
    "print(f\"入力単語「{input_word}」に近い絵文字:\")\n",
    "for index, row in closest_emojis.iterrows():\n",
    "    emoji_row = emojis_data.iloc[index]\n",
    "    print(f\"{row['emoji']} :{emoji_row['name']}: (類似度: {cosine_similarities[index][0]:.3f})\")"
   ]
  }
 ],
 "metadata": {
  "kernelspec": {
   "display_name": "Python 3 (ipykernel)",
   "language": "python",
   "name": "python3"
  },
  "language_info": {
   "codemirror_mode": {
    "name": "ipython",
    "version": 3
   },
   "file_extension": ".py",
   "mimetype": "text/x-python",
   "name": "python",
   "nbconvert_exporter": "python",
   "pygments_lexer": "ipython3",
   "version": "3.8.13"
  },
  "widgets": {
   "application/vnd.jupyter.widget-state+json": {
    "state": {},
    "version_major": 2,
    "version_minor": 0
   }
  }
 },
 "nbformat": 4,
 "nbformat_minor": 4
}
